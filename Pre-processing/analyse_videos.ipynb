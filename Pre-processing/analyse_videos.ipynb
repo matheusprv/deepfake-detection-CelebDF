{
 "cells": [
  {
   "cell_type": "code",
   "execution_count": 4,
   "id": "b0fb754a",
   "metadata": {},
   "outputs": [],
   "source": [
    "import os \n",
    "import cv2\n",
    "import numpy as np\n",
    "dataset_folder = r\"D:\\Datasets\\Celeb df\\Original dataset\\Celeb DF(V2)\""
   ]
  },
  {
   "cell_type": "code",
   "execution_count": 21,
   "id": "f328c248",
   "metadata": {},
   "outputs": [],
   "source": [
    "def get_video_duration(video_path):\n",
    "    video = cv2.VideoCapture(video_path)\n",
    "    if not video.isOpened():\n",
    "        return None\n",
    "    frame_rate = video.get(cv2.CAP_PROP_FPS)\n",
    "    frame_count = int(video.get(cv2.CAP_PROP_FRAME_COUNT))\n",
    "    duration = frame_count / frame_rate\n",
    "    width = video.get(cv2.CAP_PROP_FRAME_WIDTH)\n",
    "    height = video.get(cv2.CAP_PROP_FRAME_HEIGHT)\n",
    "    video.release()\n",
    "    \n",
    "    return frame_count, frame_rate, duration, width, height"
   ]
  },
  {
   "cell_type": "code",
   "execution_count": 22,
   "id": "0d773119",
   "metadata": {},
   "outputs": [],
   "source": [
    "frames = []\n",
    "frame_rate = []\n",
    "durations = []\n",
    "width = []\n",
    "height = []\n",
    "\n",
    "for folder in [\"Celeb-real\", \"Celeb-synthesis\", \"YouTube-real\"]:\n",
    "    files_list = os.listdir(os.path.join(dataset_folder, folder))\n",
    "    files_list = [os.path.join(dataset_folder, folder, x) for x in files_list]\n",
    "\n",
    "    for f in files_list:\n",
    "        a, b, c, d, e =get_video_duration(f)\n",
    "        frames.append(a)\n",
    "        frame_rate.append(b)\n",
    "        durations.append(c)\n",
    "        width.append(d)\n",
    "        height.append(e)\n",
    "\n",
    "frames = np.array(frames)\n",
    "frame_rate = np.array(frame_rate)\n",
    "durations = np.array(durations)\n",
    "width = np.array(width)\n",
    "height = np.array(height)"
   ]
  },
  {
   "cell_type": "code",
   "execution_count": 23,
   "id": "108f41c1",
   "metadata": {},
   "outputs": [
    {
     "data": {
      "text/plain": [
       "(1, 740, 379.16342472047785)"
      ]
     },
     "execution_count": 23,
     "metadata": {},
     "output_type": "execute_result"
    }
   ],
   "source": [
    "np.min(frames), np.max(frames), np.mean(frames)"
   ]
  },
  {
   "cell_type": "code",
   "execution_count": 24,
   "id": "b2ce0151",
   "metadata": {},
   "outputs": [
    {
     "data": {
      "text/plain": [
       "(28.75, 30.0, 29.989712564456013)"
      ]
     },
     "execution_count": 24,
     "metadata": {},
     "output_type": "execute_result"
    }
   ],
   "source": [
    "np.min(frame_rate), np.max(frame_rate), np.mean(frame_rate)"
   ]
  },
  {
   "cell_type": "code",
   "execution_count": 25,
   "id": "6383affa",
   "metadata": {},
   "outputs": [
    {
     "data": {
      "text/plain": [
       "(0.03333333333333333, 24.666666666666668, 12.643364732223086)"
      ]
     },
     "execution_count": 25,
     "metadata": {},
     "output_type": "execute_result"
    }
   ],
   "source": [
    "np.min(durations), np.max(durations), np.mean(durations)"
   ]
  },
  {
   "cell_type": "code",
   "execution_count": 26,
   "id": "0dd7cb1d",
   "metadata": {},
   "outputs": [
    {
     "data": {
      "text/plain": [
       "(286.0, 974.0, 813.7696431306479)"
      ]
     },
     "execution_count": 26,
     "metadata": {},
     "output_type": "execute_result"
    }
   ],
   "source": [
    "np.min(width), np.max(width), np.mean(width)"
   ]
  },
  {
   "cell_type": "code",
   "execution_count": 27,
   "id": "d458e850",
   "metadata": {},
   "outputs": [
    {
     "data": {
      "text/plain": [
       "(298.0, 500.0, 480.4564251799663)"
      ]
     },
     "execution_count": 27,
     "metadata": {},
     "output_type": "execute_result"
    }
   ],
   "source": [
    "np.min(height), np.max(height), np.mean(height)"
   ]
  }
 ],
 "metadata": {
  "kernelspec": {
   "display_name": "Python 3",
   "language": "python",
   "name": "python3"
  },
  "language_info": {
   "codemirror_mode": {
    "name": "ipython",
    "version": 3
   },
   "file_extension": ".py",
   "mimetype": "text/x-python",
   "name": "python",
   "nbconvert_exporter": "python",
   "pygments_lexer": "ipython3",
   "version": "3.11.3"
  }
 },
 "nbformat": 4,
 "nbformat_minor": 5
}
