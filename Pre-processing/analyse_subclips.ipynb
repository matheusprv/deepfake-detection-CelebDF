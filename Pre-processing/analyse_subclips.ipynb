{
 "cells": [
  {
   "cell_type": "code",
   "execution_count": null,
   "metadata": {},
   "outputs": [],
   "source": [
    "train_val_test = 'train'\n",
    "real_falso = 'real'"
   ]
  },
  {
   "cell_type": "code",
   "execution_count": null,
   "metadata": {},
   "outputs": [],
   "source": [
    "import os \n",
    "videos_path = r\"D:\\Datasets\\Celeb df\\V3-aspect_ratio_keeped\\content\\Celeb-df-V2-faces-extracted\\\\\"\n",
    "videos_path += '\\\\' + train_val_test + '\\\\' + real_falso"
   ]
  },
  {
   "cell_type": "code",
   "execution_count": null,
   "metadata": {},
   "outputs": [],
   "source": [
    "videos = os.listdir(videos_path)\n",
    "videos = [video.split(\"_segment_\")[0] for video in videos]"
   ]
  },
  {
   "cell_type": "code",
   "execution_count": null,
   "metadata": {},
   "outputs": [],
   "source": [
    "unique_videos = list(set(videos))\n",
    "\n",
    "print(len(videos), len(unique_videos))\n",
    "print(unique_videos)"
   ]
  },
  {
   "cell_type": "code",
   "execution_count": null,
   "metadata": {},
   "outputs": [],
   "source": [
    "with open(f\"../List_of_videos/{train_val_test}_{real_falso}.txt\", 'r') as file:\n",
    "    list_of_all_videos = file.read().replace(\"/\", \"\\\\\").split(\"\\n\")\n",
    "    list_of_all_videos = [v.replace(\"YouTube-real\\\\\", \"\").replace(\"Celeb-real\\\\\", \"\").replace(\"Celeb-synthesis\\\\\", \"\").replace(\".mp4\", \"\") for v in list_of_all_videos]"
   ]
  },
  {
   "cell_type": "code",
   "execution_count": null,
   "metadata": {},
   "outputs": [],
   "source": [
    "print(len(list_of_all_videos))"
   ]
  },
  {
   "cell_type": "code",
   "execution_count": null,
   "metadata": {},
   "outputs": [],
   "source": [
    "faltosos = list(set(list_of_all_videos) - set(unique_videos))\n",
    "print(faltosos)"
   ]
  },
  {
   "cell_type": "code",
   "execution_count": 1,
   "metadata": {},
   "outputs": [],
   "source": [
    "import cv2\n",
    "import os "
   ]
  },
  {
   "cell_type": "code",
   "execution_count": 3,
   "metadata": {},
   "outputs": [
    {
     "name": "stdout",
     "output_type": "stream",
     "text": [
      "Analisando test real\n",
      "Analisando test fake\n",
      "Analisando val real\n",
      "Analisando val fake\n",
      "Analisando train real\n",
      "Analisando train fake\n"
     ]
    }
   ],
   "source": [
    "base_path = r\"D:\\Datasets\\Celeb df\\V3-aspect_ratio_keeped\\Celeb-df-V2-faces-extracted\"\n",
    "for ttv in ['test', 'val', 'train']:\n",
    "    for rf in ['real', 'fake']:\n",
    "        print(\"Analisando\", ttv, rf)\n",
    "        videos_folder = os.path.join(base_path, ttv, rf)\n",
    "        videos_path = [os.path.join(videos_folder, videos) for videos in os.listdir(videos_folder)]\n",
    "\n",
    "        for video_path in videos_path:\n",
    "            video_capture = cv2.VideoCapture(video_path)\n",
    "            width  = video_capture.get(cv2.CAP_PROP_FRAME_WIDTH)   \n",
    "            height = video_capture.get(cv2.CAP_PROP_FRAME_HEIGHT)\n",
    "            fps    = video_capture.get(cv2.CAP_PROP_FRAME_COUNT)\n",
    "\n",
    "            if width != 298 or height != 298 or fps != 24:\n",
    "                print(video_path)\n"
   ]
  },
  {
   "cell_type": "code",
   "execution_count": 5,
   "metadata": {},
   "outputs": [],
   "source": [
    "def read_video(video_path, num_frames = 24):\n",
    "    video_frames = []\n",
    "    cap = cv2.VideoCapture(video_path)\n",
    "    while True:\n",
    "        ret, current_frame = cap.read()\n",
    "        if not ret: break\n",
    "        current_frame = cv2.resize(current_frame, (299, 299))\n",
    "        video_frames.append(current_frame)\n",
    "    cap.release()\n",
    "    return video_frames\n",
    "\n",
    "video_frames = read_video(r\"D:\\Datasets\\Celeb df\\V3-aspect_ratio_keeped\\Celeb-df-V2-faces-extracted\\train\\real\\00000_segment_1.mp4\")"
   ]
  },
  {
   "cell_type": "code",
   "execution_count": 7,
   "metadata": {},
   "outputs": [
    {
     "name": "stdout",
     "output_type": "stream",
     "text": [
      "(24, 299, 299, 3)\n"
     ]
    }
   ],
   "source": [
    "import numpy as np\n",
    "frames = np.array(video_frames)\n",
    "print(frames.shape)"
   ]
  }
 ],
 "metadata": {
  "kernelspec": {
   "display_name": "Python 3",
   "language": "python",
   "name": "python3"
  },
  "language_info": {
   "codemirror_mode": {
    "name": "ipython",
    "version": 3
   },
   "file_extension": ".py",
   "mimetype": "text/x-python",
   "name": "python",
   "nbconvert_exporter": "python",
   "pygments_lexer": "ipython3",
   "version": "3.11.3"
  }
 },
 "nbformat": 4,
 "nbformat_minor": 2
}
