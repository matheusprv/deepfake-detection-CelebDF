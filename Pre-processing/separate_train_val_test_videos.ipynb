{
 "cells": [
  {
   "cell_type": "code",
   "execution_count": 1,
   "metadata": {
    "metadata": {}
   },
   "outputs": [],
   "source": [
    "import os\n",
    "import cv2\n",
    "import random"
   ]
  },
  {
   "cell_type": "code",
   "execution_count": 2,
   "metadata": {
    "metadata": {}
   },
   "outputs": [],
   "source": [
    "base_path = r\"D:\\Datasets\\Celeb df\\Original dataset\\Celeb DF(V2)\"\n",
    "celeb_real_path      = os.path.join(base_path, \"Celeb-real\")\n",
    "youtube_real_path    = os.path.join(base_path, \"YouTube-real\")\n",
    "celeb_synthesis_path = os.path.join(base_path, \"Celeb-synthesis\")"
   ]
  },
  {
   "cell_type": "code",
   "execution_count": 3,
   "metadata": {
    "metadata": {}
   },
   "outputs": [
    {
     "name": "stdout",
     "output_type": "stream",
     "text": [
      "5639\n",
      "890\n"
     ]
    }
   ],
   "source": [
    "def make_list_of_videos_path(folder_path):\n",
    "    videos_list = [os.path.join(folder_path, video_file_name) for video_file_name in os.listdir(folder_path)]\n",
    "    return videos_list\n",
    "\n",
    "celeb_synthesis_videos_path = make_list_of_videos_path(celeb_synthesis_path)\n",
    "print(len(celeb_synthesis_videos_path))\n",
    "\n",
    "real_videos_path = make_list_of_videos_path(celeb_real_path) + make_list_of_videos_path(youtube_real_path)\n",
    "print(len(real_videos_path))"
   ]
  },
  {
   "cell_type": "code",
   "execution_count": 4,
   "metadata": {
    "metadata": {}
   },
   "outputs": [
    {
     "name": "stdout",
     "output_type": "stream",
     "text": [
      "No equal elements\n",
      "No equal elements\n"
     ]
    }
   ],
   "source": [
    "with open(\"../List_of_videos/test_real.txt\", 'r') as file:\n",
    "    test_real_dataset = file.read().replace(\"/\", \"\\\\\").split(\"\\n\")\n",
    "test_real_dataset = [os.path.join(base_path, video_path) for video_path in test_real_dataset]\n",
    "# Removing from the real_videos_path the videos from the test dataset\n",
    "real_videos_path = list(set(real_videos_path) - set(test_real_dataset))\n",
    "\n",
    "common_elements = set(test_real_dataset).intersection(set(real_videos_path))\n",
    "if common_elements:\n",
    "    print(\"There are equal elements in both lists:\", common_elements)\n",
    "else:\n",
    "    print(\"No equal elements\")\n",
    "\n",
    "\n",
    "\n",
    "\n",
    "with open(\"../List_of_videos/test_fake.txt\", 'r') as file:\n",
    "    test_fake_dataset = file.read().replace(\"/\", \"\\\\\").split(\"\\n\")\n",
    "test_fake_dataset = [os.path.join(base_path, video_path) for video_path in test_fake_dataset]\n",
    "# Removing from the celeb_synthesis_videos_path the videos from the test dataset\n",
    "celeb_synthesis_videos_path = list(set(celeb_synthesis_videos_path) - set(test_fake_dataset))\n",
    "\n",
    "common_elements = set(celeb_synthesis_videos_path).intersection(set(test_fake_dataset))\n",
    "if common_elements:\n",
    "    print(\"There are equal elements in both lists:\", common_elements)\n",
    "else:\n",
    "    print(\"No equal elements\")"
   ]
  },
  {
   "cell_type": "code",
   "execution_count": 5,
   "metadata": {
    "metadata": {}
   },
   "outputs": [],
   "source": [
    "def check_videos_with_fewer_frames(list_of_videos, target_number_of_frames):\n",
    "    \n",
    "    total_videos = len(list_of_videos)\n",
    "    videos_with_less_frames = []\n",
    "\n",
    "    for i, video_path in enumerate(list_of_videos):\n",
    "        video_capture = cv2.VideoCapture(video_path)\n",
    "        \n",
    "        # Checking if the video can be oppened\n",
    "        if not video_capture.isOpened():\n",
    "            print(\"Não foi possivel abrir:\", video_path)\n",
    "        else:\n",
    "            total_frames = int(cv2.VideoCapture.get(video_capture, cv2.CAP_PROP_FRAME_COUNT)) \n",
    "            if  total_frames < target_number_of_frames:\n",
    "                videos_with_less_frames.append(video_path)\n",
    "\n",
    "                video_name = video_path.split(\"\\\\\")[-1]\n",
    "                print(f\"{i+1}/{total_videos} - {video_name} não possui o tamanho necessario - Possui {total_frames} frames\")\n",
    "                \n",
    "    return videos_with_less_frames\n"
   ]
  },
  {
   "cell_type": "markdown",
   "metadata": {},
   "source": [
    "# Generate train and val datasets"
   ]
  },
  {
   "cell_type": "code",
   "execution_count": 6,
   "metadata": {
    "metadata": {}
   },
   "outputs": [],
   "source": [
    "def write_list_to_file(file_path, videos_path_list):\n",
    "    with open(file_path, 'w') as file:\n",
    "        for string in videos_path_list:\n",
    "            string = string.split('\\\\')[-2:]\n",
    "            string = \"/\".join(string)\n",
    "            file.write(string + '\\n')\n",
    "    print(\"Content has been written to the file successfully.\")\n"
   ]
  },
  {
   "cell_type": "markdown",
   "metadata": {},
   "source": [
    "## Real videos"
   ]
  },
  {
   "cell_type": "code",
   "execution_count": 7,
   "metadata": {
    "metadata": {}
   },
   "outputs": [
    {
     "name": "stdout",
     "output_type": "stream",
     "text": [
      "249/712 - id27_0005.mp4 não possui o tamanho necessario - Possui 1 frames\n",
      "67/711 - id17_0006.mp4 não possui o tamanho necessario - Possui 201 frames\n",
      "144/711 - id21_0003.mp4 não possui o tamanho necessario - Possui 178 frames\n",
      "203/711 - id8_0005.mp4 não possui o tamanho necessario - Possui 215 frames\n",
      "447/711 - id7_0005.mp4 não possui o tamanho necessario - Possui 161 frames\n",
      "571/711 - id10_0006.mp4 não possui o tamanho necessario - Possui 172 frames\n",
      "633/711 - id23_0003.mp4 não possui o tamanho necessario - Possui 186 frames\n",
      "682/711 - id21_0005.mp4 não possui o tamanho necessario - Possui 165 frames\n",
      "163\n",
      "548\n",
      "Content has been written to the file successfully.\n",
      "Content has been written to the file successfully.\n"
     ]
    }
   ],
   "source": [
    "#Remove from real_videos_path the ones with less than 24*2 frames\n",
    "videos_with_less_than_24x2_frames = check_videos_with_fewer_frames(real_videos_path, 24*2)\n",
    "for video in videos_with_less_than_24x2_frames:\n",
    "    real_videos_path.remove(video)\n",
    "\n",
    "\n",
    "# Now the list of real videos only have videos with enough frames for validation\n",
    "# Since there are videos that don't have enough frames for train, they will become part of the val_real_dataset\n",
    "target_validation_videos = 163\n",
    "val_real_dataset = check_videos_with_fewer_frames(real_videos_path, 24*9)\n",
    "\n",
    "# These videos will then be removed from the real_videos_path list\n",
    "for video in val_real_dataset:\n",
    "    real_videos_path.remove(video)\n",
    "\n",
    "# Then a sample of videos from real_path_videos will be randomly choosen to compose the val_real_dataset\n",
    "target_validation_videos -= len(val_real_dataset)\n",
    "val_real_dataset += random.sample(real_videos_path, target_validation_videos)\n",
    "\n",
    "# Finally, the train_real_dataset will be the remainder of the real_videos_path\n",
    "train_real_dataset = list(set(real_videos_path) - set(val_real_dataset))\n",
    "\n",
    "print(len(val_real_dataset))\n",
    "print(len(train_real_dataset))\n",
    "\n",
    "\n",
    "# Check if there are equal elements in both lists\n",
    "common_elements = set(val_real_dataset).intersection(set(train_real_dataset))\n",
    "if common_elements:\n",
    "    print(\"There are equal elements in both lists:\", common_elements)\n",
    "else:\n",
    "    write_list_to_file(\"../List_of_videos/val_real.txt\", val_real_dataset)\n",
    "    write_list_to_file(\"../List_of_videos/train_real.txt\", train_real_dataset)"
   ]
  },
  {
   "cell_type": "markdown",
   "metadata": {},
   "source": [
    "## Fake videos"
   ]
  },
  {
   "cell_type": "code",
   "execution_count": 8,
   "metadata": {
    "metadata": {}
   },
   "outputs": [
    {
     "name": "stdout",
     "output_type": "stream",
     "text": [
      "326\n",
      "4973\n",
      "Content has been written to the file successfully.\n",
      "Content has been written to the file successfully.\n"
     ]
    }
   ],
   "source": [
    "# With previous investigation was possible to confirm that none of the fake videos has less than 24 frames\n",
    "\n",
    "target_validation_videos = 326\n",
    "\n",
    "val_fake_dataset = random.sample(celeb_synthesis_videos_path, target_validation_videos)\n",
    "train_fake_dataset = list(set(celeb_synthesis_videos_path) - set(val_fake_dataset))\n",
    "\n",
    "print(len(val_fake_dataset))\n",
    "print(len(train_fake_dataset))\n",
    "\n",
    "# Check if there are equal elements in both lists\n",
    "common_elements = set(val_fake_dataset).intersection(set(train_fake_dataset))\n",
    "if common_elements:\n",
    "    print(\"There are equal elements in both lists:\", common_elements)\n",
    "else:\n",
    "    write_list_to_file(\"../List_of_videos/val_fake.txt\", val_fake_dataset)\n",
    "    write_list_to_file(\"../List_of_videos/train_fake.txt\", train_fake_dataset)"
   ]
  }
 ],
 "metadata": {
  "kernelspec": {
   "display_name": "Python 3",
   "language": "python",
   "name": "python3"
  },
  "language_info": {
   "codemirror_mode": {
    "name": "ipython",
    "version": 3
   },
   "file_extension": ".py",
   "mimetype": "text/x-python",
   "name": "python",
   "nbconvert_exporter": "python",
   "pygments_lexer": "ipython3",
   "version": "3.11.3"
  }
 },
 "nbformat": 4,
 "nbformat_minor": 2
}
